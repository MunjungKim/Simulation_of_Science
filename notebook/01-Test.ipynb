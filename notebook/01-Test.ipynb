{
 "cells": [
  {
   "cell_type": "code",
   "execution_count": 1,
   "id": "1368ce9f-616e-4756-a680-98c32c2f539d",
   "metadata": {},
   "outputs": [],
   "source": [
    "from copy import deepcopy"
   ]
  },
  {
   "cell_type": "code",
   "execution_count": 2,
   "id": "67f2cb49-0e07-4bb9-b095-32491494b749",
   "metadata": {},
   "outputs": [],
   "source": [
    "from CS_Simulation.Scientist import scientist"
   ]
  },
  {
   "cell_type": "code",
   "execution_count": 3,
   "id": "181fa814-c646-4e09-aac1-67bbc782470e",
   "metadata": {},
   "outputs": [],
   "source": [
    "scientist1 = scientist(\"random\",196,10,1)"
   ]
  },
  {
   "cell_type": "code",
   "execution_count": 4,
   "id": "c8b3a48f-6f51-4755-a75c-c52a115f2c66",
   "metadata": {},
   "outputs": [],
   "source": [
    "from CS_Simulation.utils import CA"
   ]
  },
  {
   "cell_type": "code",
   "execution_count": 5,
   "id": "df297f5a-e811-47a2-93f2-f5b2f6926397",
   "metadata": {},
   "outputs": [],
   "source": [
    "from CS_Simulation.utils import DataGen"
   ]
  },
  {
   "cell_type": "code",
   "execution_count": 6,
   "id": "16364c3e-a750-41d7-b486-783436dd26d4",
   "metadata": {},
   "outputs": [],
   "source": [
    "pp = {}\n",
    "system = CA()\n",
    "\n",
    "pp['side_length'] = 14\n",
    "pp['rule']={'alive': [2, 3], 'dead': [3]}\n",
    "system.assign_pp(pp)"
   ]
  },
  {
   "cell_type": "code",
   "execution_count": 7,
   "id": "eb75e948-3229-44a0-bce8-b331d52c60f5",
   "metadata": {},
   "outputs": [],
   "source": [
    "single_data_size = 5000\n",
    "total_data_size = single_data_size * 1\n",
    "batch_size = 16\n",
    "train_ratio = 0.8\n",
    "filename = ''"
   ]
  },
  {
   "cell_type": "code",
   "execution_count": 8,
   "id": "4b9d3c6c-a6b2-437e-87f4-fa2776f65828",
   "metadata": {},
   "outputs": [],
   "source": [
    "for i in range(4000):\n",
    "    scientist1.make_observation(system)"
   ]
  },
  {
   "cell_type": "code",
   "execution_count": 9,
   "id": "7f967a21-292a-4e6a-a332-00dbd15ef9ee",
   "metadata": {},
   "outputs": [],
   "source": [
    "scientist1.initialize_explanation()"
   ]
  },
  {
   "cell_type": "code",
   "execution_count": 11,
   "id": "ee620728-d845-4c5f-9e98-3841b1abd9f3",
   "metadata": {
    "tags": []
   },
   "outputs": [
    {
     "name": "stdout",
     "output_type": "stream",
     "text": [
      "============== Epoch 0 =============\n",
      "<generator object Module.parameters at 0x7fa410340040>\n",
      "[Epoch 0] Train Loss : 0.5815013329982758 / Train Acc : 72.53368055555556\n",
      "<generator object Module.parameters at 0x7fa38f1da340>\n",
      "[Epoch 1] Train Loss : 0.5734922461509705 / Train Acc : 72.70399305555556\n",
      "<generator object Module.parameters at 0x7fa410340040>\n",
      "[Epoch 2] Train Loss : 0.540155577301979 / Train Acc : 73.9328125\n",
      "<generator object Module.parameters at 0x7fa38f1db5a0>\n",
      "[Epoch 3] Train Loss : 0.4047566534280777 / Train Acc : 80.03159722222222\n",
      "<generator object Module.parameters at 0x7fa410340040>\n",
      "[Epoch 4] Train Loss : 0.2545932983756065 / Train Acc : 88.03871527777778\n",
      "<generator object Module.parameters at 0x7fa410340040>\n",
      "[Epoch 5] Train Loss : 0.14263918992877006 / Train Acc : 93.90399305555556\n",
      "<generator object Module.parameters at 0x7fa38f1da960>\n",
      "[Epoch 6] Train Loss : 0.08553608544170857 / Train Acc : 96.5421875\n",
      "<generator object Module.parameters at 0x7fa408a20d60>\n",
      "[Epoch 7] Train Loss : 0.02404607757553458 / Train Acc : 99.15642361111111\n",
      "<generator object Module.parameters at 0x7fa38f1db760>\n",
      "[Epoch 8] Train Loss : 0.008301106565631926 / Train Acc : 99.75017361111111\n",
      "<generator object Module.parameters at 0x7fa410340040>\n",
      "[Epoch 9] Train Loss : 0.00304022201616317 / Train Acc : 99.93593750000001\n",
      "============== Epoch 10 =============\n",
      "<generator object Module.parameters at 0x7fa38f1db300>\n",
      "[Epoch 10] Train Loss : 0.001368399858241901 / Train Acc : 99.98090277777779\n",
      "<generator object Module.parameters at 0x7fa408a20d60>\n",
      "[Epoch 11] Train Loss : 0.0007553617715602741 / Train Acc : 99.99496527777778\n",
      "<generator object Module.parameters at 0x7fa38f1da880>\n",
      "[Epoch 12] Train Loss : 0.000495632371166721 / Train Acc : 99.99739583333334\n",
      "<generator object Module.parameters at 0x7fa410340040>\n",
      "[Epoch 13] Train Loss : 0.0002966888157534413 / Train Acc : 99.99982638888889\n",
      "<generator object Module.parameters at 0x7fa38f1dbe60>\n",
      "[Epoch 14] Train Loss : 0.00020723660904332065 / Train Acc : 99.99982638888889\n"
     ]
    }
   ],
   "source": [
    "scientist1.update_explanation(5e-4,0.005,15)"
   ]
  },
  {
   "cell_type": "code",
   "execution_count": 12,
   "id": "6a4a1b37-35ca-47d2-b0af-2d9f738afcc3",
   "metadata": {},
   "outputs": [],
   "source": [
    "import numpy as np"
   ]
  },
  {
   "cell_type": "code",
   "execution_count": 13,
   "id": "5590f7ed-d5c5-44ff-a42e-3690c4cf2901",
   "metadata": {},
   "outputs": [],
   "source": [
    "test_state = np.zeros((196,3))"
   ]
  },
  {
   "cell_type": "code",
   "execution_count": 14,
   "id": "5306e465-f248-44de-8a51-29d22fd1a9e7",
   "metadata": {},
   "outputs": [],
   "source": [
    "for i in range(14):\n",
    "    for j in range(14):\n",
    "        test_state[i*14+j][0] = i \n",
    "        test_state[i*14+j][1] = j\n",
    "        if i==2 &j==3:\n",
    "            test_state[i*14+j][2]  = 1"
   ]
  },
  {
   "cell_type": "code",
   "execution_count": 15,
   "id": "4486f069-fef2-48bd-8b77-58d71b50ef88",
   "metadata": {},
   "outputs": [],
   "source": [
    "import torch"
   ]
  },
  {
   "cell_type": "code",
   "execution_count": 16,
   "id": "62e9c989-53d1-4702-8dc7-2b5de74ca5bd",
   "metadata": {},
   "outputs": [],
   "source": [
    "key_temp = scientist1.explanation.module.key(torch.tensor(test_state).float().to(\"cuda:6\"))"
   ]
  },
  {
   "cell_type": "code",
   "execution_count": 17,
   "id": "e50b884e-f097-49d2-906c-a5fd753fb9f0",
   "metadata": {},
   "outputs": [],
   "source": [
    "test_state = torch.tensor(test_state).to(\"cuda:6\")"
   ]
  },
  {
   "cell_type": "code",
   "execution_count": 18,
   "id": "8b9f776c-c4b5-499e-9ef1-1c788f5bac9a",
   "metadata": {},
   "outputs": [],
   "source": [
    "que_temp = scientist1.explanation.module.query(test_state.float())"
   ]
  },
  {
   "cell_type": "code",
   "execution_count": 19,
   "id": "f76953e8-63a3-40dd-9a54-a7cebb3b8c15",
   "metadata": {},
   "outputs": [],
   "source": [
    "kz = [key_temp for _ in range(key_temp.shape[1])]"
   ]
  },
  {
   "cell_type": "code",
   "execution_count": 20,
   "id": "6586f32f-79f6-4b18-96a7-bde821519276",
   "metadata": {},
   "outputs": [],
   "source": [
    "mask_const = 10000\n",
    "        \n",
    "mask = torch.zeros(test_state.unsqueeze(0).shape[0], test_state.unsqueeze(0).shape[1], test_state.unsqueeze(0).shape[1]).to(test_state.device)\n",
    "mask = mask+torch.eye(test_state.unsqueeze(0).shape[1], test_state.unsqueeze(0).shape[1]).to(test_state.device)*mask_const"
   ]
  },
  {
   "cell_type": "code",
   "execution_count": 21,
   "id": "9c3fd9d8-3bae-4387-8658-31ac3bf939eb",
   "metadata": {},
   "outputs": [
    {
     "data": {
      "text/plain": [
       "tensor([[[10000.,     0.,     0.,  ...,     0.,     0.,     0.],\n",
       "         [    0., 10000.,     0.,  ...,     0.,     0.,     0.],\n",
       "         [    0.,     0., 10000.,  ...,     0.,     0.,     0.],\n",
       "         ...,\n",
       "         [    0.,     0.,     0.,  ..., 10000.,     0.,     0.],\n",
       "         [    0.,     0.,     0.,  ...,     0., 10000.,     0.],\n",
       "         [    0.,     0.,     0.,  ...,     0.,     0., 10000.]]],\n",
       "       device='cuda:6')"
      ]
     },
     "execution_count": 21,
     "metadata": {},
     "output_type": "execute_result"
    }
   ],
   "source": [
    "mask"
   ]
  },
  {
   "cell_type": "code",
   "execution_count": 22,
   "id": "5ec4f431-a7f2-49e3-a1a6-a836bf4458b6",
   "metadata": {},
   "outputs": [],
   "source": [
    "ky = key_temp.unsqueeze(0)[:, :, 10* 0:10 * (0 + 1)]\n",
    "                \n",
    "kz = [ky for _ in range(ky.shape[1])]\n",
    "\n",
    "qy = que_temp.unsqueeze(0)[:, :, 10 * 0: 10 * (0+ 1)]\n",
    "                \n",
    "    \n",
    "qz = [qy for _ in range(qy.shape[1])]\n",
    "                \n",
    "z = torch.cat((torch.stack(kz, dim=-2), torch.stack(qz, dim=-3)), -1)\n",
    "               "
   ]
  },
  {
   "cell_type": "code",
   "execution_count": 23,
   "id": "47183af1-657b-416d-91a0-20d49d098cd5",
   "metadata": {},
   "outputs": [],
   "source": [
    "w = torch.sigmoid(torch.add(scientist1.explanation.module.att(z).squeeze(-1), -mask))"
   ]
  },
  {
   "cell_type": "code",
   "execution_count": 24,
   "id": "6c916476-d02a-4774-a898-7962e3beaccf",
   "metadata": {},
   "outputs": [],
   "source": [
    "import matplotlib.pyplot as plt"
   ]
  },
  {
   "cell_type": "code",
   "execution_count": 25,
   "id": "9ee9eb57-71f9-49d9-9cfc-a3b7134b6295",
   "metadata": {},
   "outputs": [
    {
     "data": {
      "text/plain": [
       "torch.Size([1, 196, 196])"
      ]
     },
     "execution_count": 25,
     "metadata": {},
     "output_type": "execute_result"
    }
   ],
   "source": [
    "w.shape"
   ]
  },
  {
   "cell_type": "code",
   "execution_count": 26,
   "id": "af9b5ea7-7f3f-42a2-bc7a-892619597793",
   "metadata": {},
   "outputs": [
    {
     "data": {
      "text/plain": [
       "<matplotlib.image.AxesImage at 0x7fa5151d0cd0>"
      ]
     },
     "execution_count": 26,
     "metadata": {},
     "output_type": "execute_result"
    },
    {
     "data": {
      "image/png": "[encoded data removed]",
      "text/plain": [
       "<Figure size 640x480 with 1 Axes>"
      ]
     },
     "metadata": {},
     "output_type": "display_data"
    }
   ],
   "source": [
    "plt.imshow(w[0][12].reshape((14,14)).detach().cpu().numpy())"
   ]
  },
  {
   "cell_type": "code",
   "execution_count": 27,
   "id": "a910c666-a2c1-46e1-9321-8023750b6c90",
   "metadata": {},
   "outputs": [
    {
     "data": {
      "text/plain": [
       "<matplotlib.image.AxesImage at 0x7fa39ed58e50>"
      ]
     },
     "execution_count": 27,
     "metadata": {},
     "output_type": "execute_result"
    },
    {
     "data": {
      "image/png": "[encoded data removed]",
      "text/plain": [
       "<Figure size 640x480 with 1 Axes>"
      ]
     },
     "metadata": {},
     "output_type": "display_data"
    }
   ],
   "source": [
    "plt.imshow(w[0][120].reshape((14,14)).detach().cpu().numpy())"
   ]
  },
  {
   "cell_type": "code",
   "execution_count": null,
   "id": "71e69519-68d9-4ba8-81a1-4c77bcc6b33f",
   "metadata": {},
   "outputs": [],
   "source": []
  },
  {
   "cell_type": "code",
   "execution_count": null,
   "id": "c247e1fe-470a-490f-8061-ec34cd8d61d7",
   "metadata": {},
   "outputs": [],
   "source": []
  }
 ],
 "metadata": {
  "kernelspec": {
   "display_name": "cs_simulation_final",
   "language": "python",
   "name": "cs_simulation_final"
  },
  "language_info": {
   "codemirror_mode": {
    "name": "ipython",
    "version": 3
   },
   "file_extension": ".py",
   "mimetype": "text/x-python",
   "name": "python",
   "nbconvert_exporter": "python",
   "pygments_lexer": "ipython3",
   "version": "3.11.6"
  }
 },
 "nbformat": 4,
 "nbformat_minor": 5
}
